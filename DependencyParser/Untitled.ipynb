{
 "cells": [
  {
   "cell_type": "code",
   "execution_count": 1,
   "metadata": {
    "collapsed": true
   },
   "outputs": [],
   "source": [
    "import pyconll\n",
    "import pyconll.util"
   ]
  },
  {
   "cell_type": "code",
   "execution_count": 2,
   "metadata": {
    "collapsed": true
   },
   "outputs": [],
   "source": [
    "UD_ENGLISH_TRAIN = './ud-treebanks-v2.3/UD_English-ESL/en_esl-ud-train.conllu'\n",
    "NGRAM = 'Lord of the Rings'.split()\n",
    "\n",
    "train = pyconll.load_from_file(UD_ENGLISH_TRAIN)\n",
    "\n",
    "# util#find_ngrams provides an iterator of tuples where the first element is the\n",
    "# sentence where the ngram was found, and the second element is the numeric index\n",
    "# of the ngram occurence in the sentence.\n",
    "for sentence, i in pyconll.util.find_ngrams(train, NGRAM):\n",
    "    tokens = sentence[i:i + len(NGRAM)]\n",
    "    tokens[0].UPOS = 'NOUN'\n",
    "    tokens[-1].UPOS = 'NOUN'"
   ]
  },
  {
   "cell_type": "code",
   "execution_count": 8,
   "metadata": {},
   "outputs": [
    {
     "name": "stdout",
     "output_type": "stream",
     "text": [
      "1\n"
     ]
    }
   ],
   "source": [
    "pronouns = set()\n",
    "for sentence in train:\n",
    "    for token in sentence:\n",
    "        if token.upos == 'PRON':\n",
    "            pronouns.add(token.lemma)\n",
    "\n",
    "print(len(pronouns))"
   ]
  },
  {
   "cell_type": "code",
   "execution_count": 11,
   "metadata": {},
   "outputs": [
    {
     "data": {
      "text/plain": [
       "4124"
      ]
     },
     "execution_count": 11,
     "metadata": {},
     "output_type": "execute_result"
    }
   ],
   "source": [
    "len(train)"
   ]
  },
  {
   "cell_type": "code",
   "execution_count": null,
   "metadata": {
    "collapsed": true
   },
   "outputs": [],
   "source": []
  }
 ],
 "metadata": {
  "kernelspec": {
   "display_name": "Python 3",
   "language": "python",
   "name": "python3"
  },
  "language_info": {
   "codemirror_mode": {
    "name": "ipython",
    "version": 3
   },
   "file_extension": ".py",
   "mimetype": "text/x-python",
   "name": "python",
   "nbconvert_exporter": "python",
   "pygments_lexer": "ipython3",
   "version": "3.6.5"
  }
 },
 "nbformat": 4,
 "nbformat_minor": 2
}
