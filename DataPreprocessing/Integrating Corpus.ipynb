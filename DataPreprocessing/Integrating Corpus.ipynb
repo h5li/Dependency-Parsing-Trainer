{
 "cells": [
  {
   "cell_type": "code",
   "execution_count": 8,
   "metadata": {
    "collapsed": true
   },
   "outputs": [],
   "source": [
    "import pyconll\n",
    "import pyconll.util\n",
    "import re"
   ]
  },
  {
   "cell_type": "code",
   "execution_count": 34,
   "metadata": {},
   "outputs": [],
   "source": [
    "DATADIR = '../../ud-treebanks-v2.3'\n",
    "ENGLISH = ['UD_English-EWT','UD_English-GUM','UD_English-LinES','UD_English-ParTUT']"
   ]
  },
  {
   "cell_type": "code",
   "execution_count": 39,
   "metadata": {},
   "outputs": [
    {
     "name": "stdout",
     "output_type": "stream",
     "text": [
      "Reading  ../../ud-treebanks-v2.3/UD_English-EWT/en_ewt-ud-train.conllu\n",
      "Number of Sentences:  12543\n",
      "Al-Zaman : American forces killed Shaikh Abdullah al-Ani, the preacher at the mosque in the town of Qaim, near the Syrian border. ['Al', '-', 'Zaman', ':', 'American', 'forces', 'killed', 'Shaikh', 'Abdullah', 'al', '-', 'Ani', ',', 'the', 'preacher', 'at', 'the', 'mosque', 'in', 'the', 'town', 'of', 'Qaim', ',', 'near', 'the', 'Syrian', 'border', '.']\n",
      "Reading  ../../ud-treebanks-v2.3/UD_English-EWT/en_ewt-ud-test.conllu\n",
      "Number of Sentences:  2077\n",
      "What if Google Morphed Into GoogleOS? ['What', 'if', 'Google', 'Morphed', 'Into', 'GoogleOS', '?']\n",
      "Reading  ../../ud-treebanks-v2.3/UD_English-EWT/en_ewt-ud-dev.conllu\n",
      "Number of Sentences:  2002\n",
      "From the AP comes this story : ['From', 'the', 'AP', 'comes', 'this', 'story', ':']\n",
      "Reading  ../../ud-treebanks-v2.3/UD_English-GUM/en_gum-ud-train.conllu\n",
      "Number of Sentences:  2914\n",
      "Aesthetic Appreciation and Spanish Art: ['Aesthetic', 'Appreciation', 'and', 'Spanish', 'Art', ':']\n",
      "Reading  ../../ud-treebanks-v2.3/UD_English-GUM/en_gum-ud-test.conllu\n",
      "Number of Sentences:  778\n",
      "The prevalence of discrimination across racial groups in contemporary America: ['The', 'prevalence', 'of', 'discrimination', 'across', 'racial', 'groups', 'in', 'contemporary', 'America', ':']\n",
      "Reading  ../../ud-treebanks-v2.3/UD_English-GUM/en_gum-ud-dev.conllu\n",
      "Number of Sentences:  707\n",
      "Digital Humanities Clinics - ['Digital', 'Humanities', 'Clinics', '-']\n",
      "Reading  ../../ud-treebanks-v2.3/UD_English-LinES/en_lines-ud-train.conllu\n",
      "Number of Sentences:  2738\n",
      "Show All ['Show', 'All']\n",
      "Reading  ../../ud-treebanks-v2.3/UD_English-LinES/en_lines-ud-test.conllu\n",
      "Number of Sentences:  914\n",
      "If you plot multiple charts, you will see a drop area for multi-chart fields. ['If', 'you', 'plot', 'multiple', 'charts', ',', 'you', 'will', 'see', 'a', 'drop', 'area', 'for', 'multi', '-', 'chart', 'fields', '.']\n",
      "Reading  ../../ud-treebanks-v2.3/UD_English-LinES/en_lines-ud-dev.conllu\n",
      "Number of Sentences:  912\n",
      "When a user connects to the SQL Server database through a Microsoft Access project, the connection is enabled through a Windows NT user account. ['When', 'a', 'user', 'connects', 'to', 'the', 'SQL', 'Server', 'database', 'through', 'a', 'Microsoft', 'Access', 'project', ',', 'the', 'connection', 'is', 'enabled', 'through', 'a', 'Windows', 'NT', 'user', 'account', '.']\n",
      "Reading  ../../ud-treebanks-v2.3/UD_English-ParTUT/en_partut-ud-train.conllu\n",
      "Number of Sentences:  1781\n",
      "Distribution of this license does not create an attorney-client relationship. ['Distribution', 'of', 'this', 'license', 'does', 'not', 'create', 'an', 'attorney', '-', 'client', 'relationship', '.']\n",
      "Reading  ../../ud-treebanks-v2.3/UD_English-ParTUT/en_partut-ud-test.conllu\n",
      "Number of Sentences:  153\n",
      "Attribution-ShareAlike 2.0. ['Attribution', '-', 'ShareAlike', '2', '.', '0', '.']\n",
      "Reading  ../../ud-treebanks-v2.3/UD_English-ParTUT/en_partut-ud-dev.conllu\n",
      "Number of Sentences:  156\n",
      "Creative Commons Corporation is not a law firm and does not provide legal services. ['Creative', 'Commons', 'Corporation', 'is', 'not', 'a', 'law', 'firm', 'and', 'does', 'not', 'provide', 'legal', 'services', '.']\n"
     ]
    }
   ],
   "source": [
    "# Read the dataset from different folders in UD TreeBanks\n",
    "# Basically just split the text for each sentence and \n",
    "corpus = []\n",
    "for dataset in ENGLISH:\n",
    "    directory = DATADIR+'/'+dataset\n",
    "    last = dataset.split('-')[-1].lower()\n",
    "    for t in ['train','test','dev']:\n",
    "        fullPath = directory + '/' + 'en_{0}-ud-{1}.conllu'.format(last,t)\n",
    "        print('Reading ', fullPath)\n",
    "        partialCorpus = pyconll.load_from_file(fullPath)\n",
    "        print('Number of Sentences: ',len(partialCorpus))\n",
    "        i = 0\n",
    "        for sentence in partialCorpus:\n",
    "            token = re.findall(r\"[\\w']+|[.,-<>\\'!=_&^%$#@*()?;]\",sentence.text)\n",
    "            if i == 0:\n",
    "                # Print out some examples and verify that regex works correctly\n",
    "                print(sentence.text,token)\n",
    "                i += 1\n",
    "            corpus.append(token)"
   ]
  },
  {
   "cell_type": "code",
   "execution_count": 40,
   "metadata": {},
   "outputs": [],
   "source": [
    "# Now let's Import our Wiki Dataset which would the test dataset for the dependency parser\n",
    "import wikipedia"
   ]
  },
  {
   "cell_type": "code",
   "execution_count": 50,
   "metadata": {
    "collapsed": true
   },
   "outputs": [],
   "source": [
    "# Randomly choose three dataset from the websites\n",
    "dataset1 = wikipedia.page('Barack Obama')\n",
    "dataset2 = wikipedia.page('Donald Trump')\n",
    "dataset3 = wikipedia.page('Kobe Bryant')"
   ]
  },
  {
   "cell_type": "code",
   "execution_count": 51,
   "metadata": {},
   "outputs": [],
   "source": [
    "for d in [dataset1,dataset2,dataset3]:\n",
    "    pageData = \" \".join(d.content.split('\\n'))\n",
    "    token = re.findall(r\"[\\w']+|[.,-<>\\'!=_&^%$#@*()?;]\",pageData)\n",
    "    corpus.append(token)"
   ]
  },
  {
   "cell_type": "code",
   "execution_count": 58,
   "metadata": {},
   "outputs": [
    {
     "name": "stdout",
     "output_type": "stream",
     "text": [
      "Finish writing Sentence No. 0\n",
      "Finish writing Sentence No. 1000\n",
      "Finish writing Sentence No. 2000\n",
      "Finish writing Sentence No. 3000\n",
      "Finish writing Sentence No. 4000\n",
      "Finish writing Sentence No. 5000\n",
      "Finish writing Sentence No. 6000\n",
      "Finish writing Sentence No. 7000\n",
      "Finish writing Sentence No. 8000\n",
      "Finish writing Sentence No. 9000\n",
      "Finish writing Sentence No. 10000\n",
      "Finish writing Sentence No. 11000\n",
      "Finish writing Sentence No. 12000\n",
      "Finish writing Sentence No. 13000\n",
      "Finish writing Sentence No. 14000\n",
      "Finish writing Sentence No. 15000\n",
      "Finish writing Sentence No. 16000\n",
      "Finish writing Sentence No. 17000\n",
      "Finish writing Sentence No. 18000\n",
      "Finish writing Sentence No. 19000\n",
      "Finish writing Sentence No. 20000\n",
      "Finish writing Sentence No. 21000\n",
      "Finish writing Sentence No. 22000\n",
      "Finish writing Sentence No. 23000\n",
      "Finish writing Sentence No. 24000\n",
      "Finish writing Sentence No. 25000\n",
      "Finish writing Sentence No. 26000\n",
      "Finish writing Sentence No. 27000\n"
     ]
    }
   ],
   "source": [
    "f = open('../../glove/corpus.txt',\"w+\")\n",
    "for i,c in enumerate(corpus):\n",
    "    if i % 1000 == 0:\n",
    "        print(\"Finish writing Sentence No.\",i)\n",
    "    f.write(\" \".join(c) + '\\n')\n",
    "f.close()"
   ]
  },
  {
   "cell_type": "code",
   "execution_count": 54,
   "metadata": {},
   "outputs": [
    {
     "data": {
      "text/plain": [
       "'Al - Zaman : American forces killed Shaikh Abdullah al - Ani , the preacher at the mosque in the town of Qaim , near the Syrian border .'"
      ]
     },
     "execution_count": 54,
     "metadata": {},
     "output_type": "execute_result"
    }
   ],
   "source": []
  },
  {
   "cell_type": "code",
   "execution_count": null,
   "metadata": {
    "collapsed": true
   },
   "outputs": [],
   "source": []
  }
 ],
 "metadata": {
  "kernelspec": {
   "display_name": "Python 3",
   "language": "python",
   "name": "python3"
  },
  "language_info": {
   "codemirror_mode": {
    "name": "ipython",
    "version": 3
   },
   "file_extension": ".py",
   "mimetype": "text/x-python",
   "name": "python",
   "nbconvert_exporter": "python",
   "pygments_lexer": "ipython3",
   "version": "3.6.5"
  }
 },
 "nbformat": 4,
 "nbformat_minor": 2
}
