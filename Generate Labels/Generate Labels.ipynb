{
 "cells": [
  {
   "cell_type": "code",
   "execution_count": 1,
   "metadata": {
    "collapsed": true
   },
   "outputs": [],
   "source": [
    "import pyconll\n",
    "import pyconll.util\n",
    "import re\n",
    "import nltk\n",
    "import wikipedia\n",
    "import collections"
   ]
  },
  {
   "cell_type": "code",
   "execution_count": 5,
   "metadata": {},
   "outputs": [],
   "source": [
    "processed_wiki = pyconll.load_from_file('../data/parsed_wiki.conll')"
   ]
  },
  {
   "cell_type": "code",
   "execution_count": 2,
   "metadata": {},
   "outputs": [],
   "source": [
    "# Read Page infomation from wikipedia dataset\n",
    "title = ['Barack Obama','Donald Trump','Kobe Bryant']\n",
    "dataset = [wikipedia.page(t) for t in title]"
   ]
  },
  {
   "cell_type": "code",
   "execution_count": 3,
   "metadata": {},
   "outputs": [
    {
     "name": "stdout",
     "output_type": "stream",
     "text": [
      "Preprocessing  Barack Obama\n",
      "Finishing 0th link\n",
      "Finishing 100th link\n",
      "Finishing 200th link\n",
      "Finishing 300th link\n",
      "Finishing 400th link\n",
      "Finishing 500th link\n",
      "Finishing 600th link\n",
      "Finishing 700th link\n",
      "Finishing 800th link\n",
      "Finishing 900th link\n",
      "Finishing 1000th link\n",
      "Finishing 1100th link\n",
      "Finishing 1200th link\n",
      "Finishing 1300th link\n",
      "Finishing 1400th link\n",
      "Finishing 1500th link\n",
      "Finishing 1600th link\n",
      "Finishing 1700th link\n",
      "Finishing 1800th link\n",
      "Finishing 1900th link\n",
      "Finishing 2000th link\n",
      "Preprocessing  Donald Trump\n",
      "Finishing 0th link\n",
      "Finishing 100th link\n",
      "Finishing 200th link\n",
      "Finishing 300th link\n",
      "Finishing 400th link\n",
      "Finishing 500th link\n",
      "Finishing 600th link\n",
      "Finishing 700th link\n",
      "Finishing 800th link\n",
      "Finishing 900th link\n",
      "Finishing 1000th link\n",
      "Finishing 1100th link\n",
      "Finishing 1200th link\n",
      "Finishing 1300th link\n",
      "Finishing 1400th link\n",
      "Finishing 1500th link\n",
      "Preprocessing  Kobe Bryant\n",
      "Finishing 0th link\n",
      "Finishing 100th link\n",
      "Finishing 200th link\n",
      "Finishing 300th link\n",
      "Finishing 400th link\n",
      "Finishing 500th link\n",
      "Finishing 600th link\n",
      "Finishing 700th link\n"
     ]
    }
   ],
   "source": [
    "# Extract all the sentences that contains link\n",
    "pages = collections.defaultdict(dict)\n",
    "for d in dataset:\n",
    "    print('Preprocessing ', d.title)\n",
    "    for i,link in enumerate(d.links):\n",
    "        if i % 100 == 0:\n",
    "            print('Finishing {0}th link'.format(i))\n",
    "        if link in d.content:\n",
    "            index = d.content.index(link)\n",
    "            start_index = index\n",
    "            end_index = index + len(link)\n",
    "            while start_index > 0:\n",
    "                if d.content[start_index] in '.!?=\\n\\t':\n",
    "                    \n",
    "                    tmpIndex = start_index\n",
    "                    while d.content[tmpIndex] != ' ':\n",
    "                        tmpIndex -= 1\n",
    "                    found = False\n",
    "                    for l in d.links:\n",
    "                        if d.content[tmpIndex+1:start_index+1] in l:\n",
    "                            found = True\n",
    "                            break\n",
    "                    if found:\n",
    "                        start_index -= 1\n",
    "                        continue\n",
    "                        \n",
    "                    start_index += 1\n",
    "                    break\n",
    "                start_index -= 1\n",
    "            while end_index < len(d.content):\n",
    "                if d.content[end_index] in '.!?=\\n\\t':\n",
    "                    \n",
    "                    tmpIndex = end_index\n",
    "                    while d.content[tmpIndex] != ' ':\n",
    "                        tmpIndex -= 1\n",
    "                    found = False\n",
    "                    for l in d.links:\n",
    "                        if d.content[tmpIndex+1:end_index+1] in l:\n",
    "                            found = True\n",
    "                            break;\n",
    "                    if found:\n",
    "                        end_index += 1\n",
    "                        continue\n",
    "                        \n",
    "                    break\n",
    "                end_index += 1\n",
    "            sentence = d.content[start_index:end_index+1]\n",
    "            pages[d.title][link] = sentence"
   ]
  },
  {
   "cell_type": "code",
   "execution_count": 57,
   "metadata": {},
   "outputs": [],
   "source": [
    "def construct_graph(sentence):\n",
    "    ''' Construct Gra'''\n",
    "    graph = [[0 for _ in range(len(sentence[:])+1)],[]]\n",
    "    for i,token in enumerate(sentence):\n",
    "        graph[0][i+1] = token.head\n",
    "        graph[1].append(token.form)\n",
    "    return graph"
   ]
  },
  {
   "cell_type": "code",
   "execution_count": 59,
   "metadata": {},
   "outputs": [
    {
     "data": {
      "text/plain": [
       "[[0,\n",
       "  '2',\n",
       "  '6',\n",
       "  '2',\n",
       "  '6',\n",
       "  '6',\n",
       "  '0',\n",
       "  '9',\n",
       "  '9',\n",
       "  '6',\n",
       "  '15',\n",
       "  '15',\n",
       "  '15',\n",
       "  '15',\n",
       "  '15',\n",
       "  '6',\n",
       "  '6',\n",
       "  '6',\n",
       "  '19',\n",
       "  '17',\n",
       "  '6'],\n",
       " ['in',\n",
       "  'july',\n",
       "  '2004',\n",
       "  ',',\n",
       "  'obama',\n",
       "  'delivered',\n",
       "  'the',\n",
       "  'keynote',\n",
       "  'address',\n",
       "  'at',\n",
       "  'the',\n",
       "  '2004',\n",
       "  'democratic',\n",
       "  'national',\n",
       "  'convention',\n",
       "  ',',\n",
       "  'seen',\n",
       "  'by',\n",
       "  '9',\n",
       "  '.']]"
      ]
     },
     "execution_count": 59,
     "metadata": {},
     "output_type": "execute_result"
    }
   ],
   "source": []
  },
  {
   "cell_type": "code",
   "execution_count": null,
   "metadata": {
    "collapsed": true
   },
   "outputs": [],
   "source": []
  }
 ],
 "metadata": {
  "kernelspec": {
   "display_name": "Python 3",
   "language": "python",
   "name": "python3"
  },
  "language_info": {
   "codemirror_mode": {
    "name": "ipython",
    "version": 3
   },
   "file_extension": ".py",
   "mimetype": "text/x-python",
   "name": "python",
   "nbconvert_exporter": "python",
   "pygments_lexer": "ipython3",
   "version": "3.6.7"
  }
 },
 "nbformat": 4,
 "nbformat_minor": 2
}
